{
 "cells": [
  {
   "cell_type": "markdown",
   "metadata": {},
   "source": [
    "## Popper Introduction\n",
    "\n",
    "Let's first create a popper agent class:"
   ]
  },
  {
   "cell_type": "code",
   "execution_count": 1,
   "metadata": {},
   "outputs": [
    {
     "name": "stdout",
     "output_type": "stream",
     "text": [
      "Loading custom data...\n"
     ]
    }
   ],
   "source": [
    "from popper import Popper\n",
    "# Modify the path to the data folder\n",
    "path = '/Users/jinyoungkim/Desktop/Projects/POPPER/data'\n",
    "agent = Popper(llm=\"claude-3-7-sonnet-20250219\")\n",
    "agent.register_data(data_path=path, loader_type='custom')"
   ]
  },
  {
   "cell_type": "code",
   "execution_count": 2,
   "metadata": {},
   "outputs": [],
   "source": [
    "import os\n",
    "os.environ['ANTHROPIC_API_KEY'] = '' # put in correct Anthropic API key"
   ]
  },
  {
   "cell_type": "markdown",
   "metadata": {},
   "source": [
    "In the initial instantiation of Popper, we focus on data analysis experiments that are drawn from a massive hypothesis free databases. Here is the hypothesis-free datasets look like: "
   ]
  },
  {
   "cell_type": "code",
   "execution_count": 3,
   "metadata": {},
   "outputs": [],
   "source": [
    "df = list(agent.data_loader.table_dict.items())[0][1]"
   ]
  },
  {
   "cell_type": "code",
   "execution_count": 4,
   "metadata": {},
   "outputs": [
    {
     "data": {
      "text/html": [
       "<div>\n",
       "<style scoped>\n",
       "    .dataframe tbody tr th:only-of-type {\n",
       "        vertical-align: middle;\n",
       "    }\n",
       "\n",
       "    .dataframe tbody tr th {\n",
       "        vertical-align: top;\n",
       "    }\n",
       "\n",
       "    .dataframe thead th {\n",
       "        text-align: right;\n",
       "    }\n",
       "</style>\n",
       "<table border=\"1\" class=\"dataframe\">\n",
       "  <thead>\n",
       "    <tr style=\"text-align: right;\">\n",
       "      <th></th>\n",
       "      <th>time</th>\n",
       "      <th>low</th>\n",
       "      <th>high</th>\n",
       "      <th>open</th>\n",
       "      <th>close</th>\n",
       "      <th>volume</th>\n",
       "    </tr>\n",
       "  </thead>\n",
       "  <tbody>\n",
       "    <tr>\n",
       "      <th>0</th>\n",
       "      <td>1644475980</td>\n",
       "      <td>43976.59</td>\n",
       "      <td>43996.20</td>\n",
       "      <td>43991.89</td>\n",
       "      <td>43980.88</td>\n",
       "      <td>0.698505</td>\n",
       "    </tr>\n",
       "    <tr>\n",
       "      <th>1</th>\n",
       "      <td>1644476040</td>\n",
       "      <td>43973.43</td>\n",
       "      <td>43990.49</td>\n",
       "      <td>43980.04</td>\n",
       "      <td>43983.51</td>\n",
       "      <td>14.357343</td>\n",
       "    </tr>\n",
       "    <tr>\n",
       "      <th>2</th>\n",
       "      <td>1644476100</td>\n",
       "      <td>43983.50</td>\n",
       "      <td>44010.17</td>\n",
       "      <td>43983.50</td>\n",
       "      <td>44005.24</td>\n",
       "      <td>2.686727</td>\n",
       "    </tr>\n",
       "    <tr>\n",
       "      <th>3</th>\n",
       "      <td>1644476160</td>\n",
       "      <td>44001.92</td>\n",
       "      <td>44010.30</td>\n",
       "      <td>44005.23</td>\n",
       "      <td>44010.28</td>\n",
       "      <td>1.060343</td>\n",
       "    </tr>\n",
       "    <tr>\n",
       "      <th>4</th>\n",
       "      <td>1644476220</td>\n",
       "      <td>43968.10</td>\n",
       "      <td>44010.72</td>\n",
       "      <td>44006.81</td>\n",
       "      <td>43981.91</td>\n",
       "      <td>3.283861</td>\n",
       "    </tr>\n",
       "    <tr>\n",
       "      <th>...</th>\n",
       "      <td>...</td>\n",
       "      <td>...</td>\n",
       "      <td>...</td>\n",
       "      <td>...</td>\n",
       "      <td>...</td>\n",
       "      <td>...</td>\n",
       "    </tr>\n",
       "    <tr>\n",
       "      <th>1576232</th>\n",
       "      <td>1739083680</td>\n",
       "      <td>96930.00</td>\n",
       "      <td>96961.34</td>\n",
       "      <td>96961.34</td>\n",
       "      <td>96946.69</td>\n",
       "      <td>0.487527</td>\n",
       "    </tr>\n",
       "    <tr>\n",
       "      <th>1576233</th>\n",
       "      <td>1739083740</td>\n",
       "      <td>96919.16</td>\n",
       "      <td>96965.98</td>\n",
       "      <td>96946.67</td>\n",
       "      <td>96939.41</td>\n",
       "      <td>4.036762</td>\n",
       "    </tr>\n",
       "    <tr>\n",
       "      <th>1576234</th>\n",
       "      <td>1739083800</td>\n",
       "      <td>96939.42</td>\n",
       "      <td>97024.77</td>\n",
       "      <td>96939.43</td>\n",
       "      <td>97016.65</td>\n",
       "      <td>3.024262</td>\n",
       "    </tr>\n",
       "    <tr>\n",
       "      <th>1576235</th>\n",
       "      <td>1739083860</td>\n",
       "      <td>96994.40</td>\n",
       "      <td>97034.37</td>\n",
       "      <td>97016.65</td>\n",
       "      <td>97023.31</td>\n",
       "      <td>0.289057</td>\n",
       "    </tr>\n",
       "    <tr>\n",
       "      <th>1576236</th>\n",
       "      <td>1739083920</td>\n",
       "      <td>97023.32</td>\n",
       "      <td>97073.83</td>\n",
       "      <td>97023.32</td>\n",
       "      <td>97043.91</td>\n",
       "      <td>0.226021</td>\n",
       "    </tr>\n",
       "  </tbody>\n",
       "</table>\n",
       "<p>1576237 rows × 6 columns</p>\n",
       "</div>"
      ],
      "text/plain": [
       "               time       low      high      open     close     volume\n",
       "0        1644475980  43976.59  43996.20  43991.89  43980.88   0.698505\n",
       "1        1644476040  43973.43  43990.49  43980.04  43983.51  14.357343\n",
       "2        1644476100  43983.50  44010.17  43983.50  44005.24   2.686727\n",
       "3        1644476160  44001.92  44010.30  44005.23  44010.28   1.060343\n",
       "4        1644476220  43968.10  44010.72  44006.81  43981.91   3.283861\n",
       "...             ...       ...       ...       ...       ...        ...\n",
       "1576232  1739083680  96930.00  96961.34  96961.34  96946.69   0.487527\n",
       "1576233  1739083740  96919.16  96965.98  96946.67  96939.41   4.036762\n",
       "1576234  1739083800  96939.42  97024.77  96939.43  97016.65   3.024262\n",
       "1576235  1739083860  96994.40  97034.37  97016.65  97023.31   0.289057\n",
       "1576236  1739083920  97023.32  97073.83  97023.32  97043.91   0.226021\n",
       "\n",
       "[1576237 rows x 6 columns]"
      ]
     },
     "execution_count": 4,
     "metadata": {},
     "output_type": "execute_result"
    }
   ],
   "source": [
    "df"
   ]
  },
  {
   "cell_type": "code",
   "execution_count": 5,
   "metadata": {},
   "outputs": [
    {
     "data": {
      "text/html": [
       "<div>\n",
       "<style scoped>\n",
       "    .dataframe tbody tr th:only-of-type {\n",
       "        vertical-align: middle;\n",
       "    }\n",
       "\n",
       "    .dataframe tbody tr th {\n",
       "        vertical-align: top;\n",
       "    }\n",
       "\n",
       "    .dataframe thead th {\n",
       "        text-align: right;\n",
       "    }\n",
       "</style>\n",
       "<table border=\"1\" class=\"dataframe\">\n",
       "  <thead>\n",
       "    <tr style=\"text-align: right;\">\n",
       "      <th></th>\n",
       "      <th>time</th>\n",
       "      <th>low</th>\n",
       "      <th>high</th>\n",
       "      <th>open</th>\n",
       "      <th>close</th>\n",
       "      <th>volume</th>\n",
       "    </tr>\n",
       "  </thead>\n",
       "  <tbody>\n",
       "    <tr>\n",
       "      <th>0</th>\n",
       "      <td>1644475980</td>\n",
       "      <td>43976.59</td>\n",
       "      <td>43996.2</td>\n",
       "      <td>43991.89</td>\n",
       "      <td>43980.88</td>\n",
       "      <td>0.698505</td>\n",
       "    </tr>\n",
       "  </tbody>\n",
       "</table>\n",
       "</div>"
      ],
      "text/plain": [
       "         time       low     high      open     close    volume\n",
       "0  1644475980  43976.59  43996.2  43991.89  43980.88  0.698505"
      ]
     },
     "metadata": {},
     "output_type": "display_data"
    }
   ],
   "source": [
    "for i,j in agent.data_loader.table_dict.items():\n",
    "    display(j.head(1))"
   ]
  },
  {
   "cell_type": "markdown",
   "metadata": {},
   "source": [
    "Now, we configure an agent with the following parameters: \\\n",
    "`alpha`: The significance level of the test. default is 0.1. \\\n",
    "`max_num_of_tests`: The maximum number of tests to run. default is 5. \\\n",
    "`max_retry`: The maximum number of retries for a test. default is 3. \\\n",
    "`time_limit`: The time limit for the test. default is 2 minutes. \\\n",
    "`aggregate_test`: The test to use for aggregation. default is 'E-value'. You can also use `Fisher`, `LLM_approx`. \\\n",
    "`relevance_checker`: Whether to use the relevance checker. default is True. \\\n",
    "`use_react_agent`: Whether to use the react agent. default is True. If False, using codegen."
   ]
  },
  {
   "cell_type": "markdown",
   "metadata": {},
   "source": [
    "You can use your own data for validation. You can simply dump in a set of datasets in your domain (e.g. business, economics, political science, etc.) and run Popper on your own hypothesis. We only expect every file in that directory is in a csv or pkl format."
   ]
  },
  {
   "cell_type": "code",
   "execution_count": null,
   "metadata": {},
   "outputs": [],
   "source": [
    "from popper import Popper\n",
    "path = '/Users/jinyoungkim/Desktop/Projects/POPPER/data'\n",
    "agent = Popper(llm=\"claude-3-5-sonnet-20240620\")\n",
    "agent.register_data(data_path=path, loader_type='custom')\n",
    "agent.configure(\n",
    "    alpha=0.05,\n",
    "    max_num_of_tests=8,\n",
    "    max_retry=4,\n",
    "    time_limit=5,\n",
    "    aggregate_test='E-value',\n",
    "    relevance_checker=True,\n",
    "    use_react_agent=True\n",
    ")\n",
    "agent.launch_UI()"
   ]
  },
  {
   "cell_type": "code",
   "execution_count": null,
   "metadata": {},
   "outputs": [],
   "source": []
  }
 ],
 "metadata": {
  "kernelspec": {
   "display_name": "popper_env",
   "language": "python",
   "name": "python3"
  },
  "language_info": {
   "codemirror_mode": {
    "name": "ipython",
    "version": 3
   },
   "file_extension": ".py",
   "mimetype": "text/x-python",
   "name": "python",
   "nbconvert_exporter": "python",
   "pygments_lexer": "ipython3",
   "version": "3.10.16"
  }
 },
 "nbformat": 4,
 "nbformat_minor": 2
}
